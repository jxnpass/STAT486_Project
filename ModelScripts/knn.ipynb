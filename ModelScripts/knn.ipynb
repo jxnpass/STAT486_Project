{
 "cells": [
  {
   "cell_type": "code",
   "execution_count": 66,
   "metadata": {},
   "outputs": [],
   "source": [
    "from sklearn.model_selection import train_test_split, GridSearchCV\n",
    "from sklearn.preprocessing import StandardScaler, OneHotEncoder\n",
    "from sklearn.compose import ColumnTransformer\n",
    "from sklearn.pipeline import Pipeline\n",
    "from sklearn.neighbors import KNeighborsRegressor\n",
    "from sklearn.metrics import mean_squared_error\n",
    "from sklearn.model_selection import train_test_split, KFold, cross_val_score\n",
    "\n",
    "import pandas as pd\n",
    "import numpy as np"
   ]
  },
  {
   "cell_type": "code",
   "execution_count": 67,
   "metadata": {},
   "outputs": [],
   "source": [
    "std = pd.read_csv(\"../Data/FE/crime_num_fe.csv\")\n",
    "pca = pd.read_csv(\"../Data/FE/crime_num_dr.csv\")\n",
    "pca = pca.iloc[:, 1:]\n",
    "vs = pd.read_csv(\"../Data/FE/crime_num_varselect.csv\")\n",
    "vs = vs.iloc[:, 1:]\n",
    "\n",
    "y = std['Num_Crimes']"
   ]
  },
  {
   "cell_type": "markdown",
   "metadata": {},
   "source": [
    "# Train Test Split (just want idx)"
   ]
  },
  {
   "cell_type": "code",
   "execution_count": 68,
   "metadata": {},
   "outputs": [],
   "source": [
    "X = std.drop(['Num_Crimes'], axis=1)\n",
    "X_train, X_test, y_train, y_test = train_test_split(X, y, random_state=308, test_size=.2)\n",
    "train_idx = X_train.index\n",
    "test_idx = X_test.index"
   ]
  },
  {
   "cell_type": "markdown",
   "metadata": {},
   "source": [
    "STD"
   ]
  },
  {
   "cell_type": "code",
   "execution_count": 69,
   "metadata": {},
   "outputs": [],
   "source": [
    "X = std.drop(['Num_Crimes', 'Date','Day', 'Month', 'Year','TS_interval'], axis=1)\n",
    "X_train = X.iloc[train_idx,]\n",
    "X_test = X.iloc[test_idx,]"
   ]
  },
  {
   "cell_type": "code",
   "execution_count": 70,
   "metadata": {},
   "outputs": [],
   "source": [
    "# transform\n",
    "categorical_cols = X.select_dtypes(include=['object', 'category']).columns.tolist()\n",
    "numeric_cols = X.select_dtypes(include=['int64', 'float64']).columns.tolist()\n",
    "numeric_transformer = Pipeline(steps=[\n",
    "    ('scaler', StandardScaler())\n",
    "])\n",
    "categorical_transformer = Pipeline(steps=[\n",
    "    ('onehot', OneHotEncoder(handle_unknown='ignore'))\n",
    "])\n",
    "preprocessor = ColumnTransformer(\n",
    "    transformers=[\n",
    "        ('num', numeric_transformer, numeric_cols),\n",
    "        ('cat', categorical_transformer, categorical_cols)\n",
    "    ])\n",
    "\n",
    "# KNN\n",
    "knn_pipe = Pipeline([\n",
    "    ('preprocessor', preprocessor), \n",
    "    ('knn', KNeighborsRegressor())\n",
    "])\n",
    "k = range(2,50,2)\n",
    "params = {\n",
    "  'knn__n_neighbors': k\n",
    "}\n"
   ]
  },
  {
   "cell_type": "code",
   "execution_count": 71,
   "metadata": {},
   "outputs": [
    {
     "name": "stdout",
     "output_type": "stream",
     "text": [
      "{'knn__n_neighbors': 14}\n"
     ]
    }
   ],
   "source": [
    "knn_tune = GridSearchCV(knn_pipe, param_grid=params, scoring='neg_mean_squared_error', cv=5)\n",
    "knn_tune.fit(X_train, y_train)\n",
    "print(knn_tune.best_params_)"
   ]
  },
  {
   "cell_type": "code",
   "execution_count": 72,
   "metadata": {},
   "outputs": [
    {
     "name": "stdout",
     "output_type": "stream",
     "text": [
      "RMSE: 4.92528524210397\n",
      "Var Red: 0.27758686415704326\n"
     ]
    }
   ],
   "source": [
    "# validation\n",
    "preds = knn_tune.predict(X_test)\n",
    "print(f\"RMSE: {mean_squared_error(y_test, preds, squared=False)}\") # rmse\n",
    "print(f\"Var Red: {np.corrcoef(y_test, preds)[0,1]**2}\") # var reduction"
   ]
  },
  {
   "cell_type": "code",
   "execution_count": 73,
   "metadata": {},
   "outputs": [
    {
     "name": "stdout",
     "output_type": "stream",
     "text": [
      "RMSE: 4.763693011220663\n",
      "Var Red: 0.38280701237682857\n"
     ]
    }
   ],
   "source": [
    "# on original data\n",
    "preds = knn_tune.predict(X)\n",
    "print(f\"RMSE: {mean_squared_error(y, preds, squared=False)}\") # rmse\n",
    "print(f\"Var Red: {np.corrcoef(y, preds)[0,1]**2}\") # var reduction"
   ]
  },
  {
   "cell_type": "markdown",
   "metadata": {},
   "source": [
    "PCA"
   ]
  },
  {
   "cell_type": "code",
   "execution_count": 74,
   "metadata": {},
   "outputs": [],
   "source": [
    "X = pca.drop(['Num_Crimes', 'Date','Day', 'Month', 'Year','TS_interval'], axis=1)\n",
    "X_train = X.iloc[train_idx,]\n",
    "X_test = X.iloc[test_idx,]"
   ]
  },
  {
   "cell_type": "code",
   "execution_count": 75,
   "metadata": {},
   "outputs": [],
   "source": [
    "# transform\n",
    "categorical_cols = X.select_dtypes(include=['object', 'category']).columns.tolist()\n",
    "numeric_cols = X.select_dtypes(include=['int64', 'float64']).columns.tolist()\n",
    "numeric_transformer = Pipeline(steps=[\n",
    "    ('scaler', StandardScaler())\n",
    "])\n",
    "categorical_transformer = Pipeline(steps=[\n",
    "    ('onehot', OneHotEncoder(handle_unknown='ignore'))\n",
    "])\n",
    "preprocessor = ColumnTransformer(\n",
    "    transformers=[\n",
    "        ('num', numeric_transformer, numeric_cols),\n",
    "        ('cat', categorical_transformer, categorical_cols)\n",
    "    ])\n",
    "\n",
    "# KNN\n",
    "knn_pipe = Pipeline([\n",
    "    ('preprocessor', preprocessor), \n",
    "    ('knn', KNeighborsRegressor())\n",
    "])\n",
    "k = range(2,50,2)\n",
    "params = {\n",
    "  'knn__n_neighbors': k\n",
    "}"
   ]
  },
  {
   "cell_type": "code",
   "execution_count": 76,
   "metadata": {},
   "outputs": [
    {
     "name": "stdout",
     "output_type": "stream",
     "text": [
      "{'knn__n_neighbors': 38}\n"
     ]
    }
   ],
   "source": [
    "knn_tune = GridSearchCV(knn_pipe, param_grid=params, scoring='neg_mean_squared_error', cv=5)\n",
    "knn_tune.fit(X_train, y_train)\n",
    "print(knn_tune.best_params_)"
   ]
  },
  {
   "cell_type": "code",
   "execution_count": 77,
   "metadata": {},
   "outputs": [
    {
     "name": "stdout",
     "output_type": "stream",
     "text": [
      "RMSE: 4.789427858563622\n",
      "Var Red: 0.3175645573094259\n"
     ]
    }
   ],
   "source": [
    "# validation\n",
    "preds = knn_tune.predict(X_test)\n",
    "print(f\"RMSE: {mean_squared_error(y_test, preds, squared=False)}\") # rmse\n",
    "print(f\"Var Red: {np.corrcoef(y_test, preds)[0,1]**2}\") # var reduction"
   ]
  },
  {
   "cell_type": "code",
   "execution_count": 78,
   "metadata": {},
   "outputs": [
    {
     "name": "stdout",
     "output_type": "stream",
     "text": [
      "RMSE: 4.7852303350410255\n",
      "Var Red: 0.36154902068998734\n"
     ]
    }
   ],
   "source": [
    "# on original data\n",
    "preds = knn_tune.predict(X)\n",
    "print(f\"RMSE: {mean_squared_error(y, preds, squared=False)}\") # rmse\n",
    "print(f\"Var Red: {np.corrcoef(y, preds)[0,1]**2}\") # var reduction"
   ]
  },
  {
   "cell_type": "markdown",
   "metadata": {},
   "source": [
    "VS"
   ]
  },
  {
   "cell_type": "code",
   "execution_count": 80,
   "metadata": {},
   "outputs": [],
   "source": [
    "X = vs.drop(['Num_Crimes', 'Date','Day', 'Month', 'Year','TS_interval'], axis=1)\n",
    "X_train = X.iloc[train_idx,]\n",
    "X_test = X.iloc[test_idx,]"
   ]
  },
  {
   "cell_type": "code",
   "execution_count": 81,
   "metadata": {},
   "outputs": [],
   "source": [
    "# transform\n",
    "categorical_cols = X.select_dtypes(include=['object', 'category']).columns.tolist()\n",
    "numeric_cols = X.select_dtypes(include=['int64', 'float64']).columns.tolist()\n",
    "numeric_transformer = Pipeline(steps=[\n",
    "    ('scaler', StandardScaler())\n",
    "])\n",
    "categorical_transformer = Pipeline(steps=[\n",
    "    ('onehot', OneHotEncoder(handle_unknown='ignore'))\n",
    "])\n",
    "preprocessor = ColumnTransformer(\n",
    "    transformers=[\n",
    "        ('num', numeric_transformer, numeric_cols),\n",
    "        ('cat', categorical_transformer, categorical_cols)\n",
    "    ])\n",
    "\n",
    "# KNN\n",
    "knn_pipe = Pipeline([\n",
    "    ('preprocessor', preprocessor), \n",
    "    ('knn', KNeighborsRegressor())\n",
    "])\n",
    "k = range(2,50,2)\n",
    "params = {\n",
    "  'knn__n_neighbors': k\n",
    "}"
   ]
  },
  {
   "cell_type": "code",
   "execution_count": 82,
   "metadata": {},
   "outputs": [
    {
     "name": "stdout",
     "output_type": "stream",
     "text": [
      "{'knn__n_neighbors': 40}\n"
     ]
    }
   ],
   "source": [
    "knn_tune = GridSearchCV(knn_pipe, param_grid=params, scoring='neg_mean_squared_error', cv=5)\n",
    "knn_tune.fit(X_train, y_train)\n",
    "print(knn_tune.best_params_)"
   ]
  },
  {
   "cell_type": "code",
   "execution_count": 83,
   "metadata": {},
   "outputs": [
    {
     "name": "stdout",
     "output_type": "stream",
     "text": [
      "RMSE: 4.6726150244663\n",
      "Var Red: 0.34978813894226896\n"
     ]
    }
   ],
   "source": [
    "# validation\n",
    "preds = knn_tune.predict(X_test)\n",
    "print(f\"RMSE: {mean_squared_error(y_test, preds, squared=False)}\") # rmse\n",
    "print(f\"Var Red: {np.corrcoef(y_test, preds)[0,1]**2}\") # var reduction"
   ]
  },
  {
   "cell_type": "code",
   "execution_count": 84,
   "metadata": {},
   "outputs": [
    {
     "name": "stdout",
     "output_type": "stream",
     "text": [
      "RMSE: 4.687790387032204\n",
      "Var Red: 0.38879451588185465\n"
     ]
    }
   ],
   "source": [
    "# on original data\n",
    "preds = knn_tune.predict(X)\n",
    "print(f\"RMSE: {mean_squared_error(y, preds, squared=False)}\") # rmse\n",
    "print(f\"Var Red: {np.corrcoef(y, preds)[0,1]**2}\") # var reduction"
   ]
  },
  {
   "cell_type": "markdown",
   "metadata": {},
   "source": [
    "Output for Preds Plot"
   ]
  },
  {
   "cell_type": "code",
   "execution_count": 85,
   "metadata": {},
   "outputs": [],
   "source": [
    "np.savetxt(\"PyPreds/knnpreds.csv\", preds, delimiter=\",\")"
   ]
  }
 ],
 "metadata": {
  "kernelspec": {
   "display_name": "base",
   "language": "python",
   "name": "python3"
  },
  "language_info": {
   "codemirror_mode": {
    "name": "ipython",
    "version": 3
   },
   "file_extension": ".py",
   "mimetype": "text/x-python",
   "name": "python",
   "nbconvert_exporter": "python",
   "pygments_lexer": "ipython3",
   "version": "3.11.4"
  }
 },
 "nbformat": 4,
 "nbformat_minor": 2
}
