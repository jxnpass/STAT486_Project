{
 "cells": [
  {
   "cell_type": "code",
   "execution_count": 22,
   "metadata": {},
   "outputs": [],
   "source": [
    "from sklearn.model_selection import train_test_split, RandomizedSearchCV\n",
    "from sklearn.preprocessing import StandardScaler, OneHotEncoder\n",
    "from sklearn.compose import ColumnTransformer\n",
    "from sklearn.pipeline import Pipeline\n",
    "from sklearn.ensemble import RandomForestRegressor\n",
    "from sklearn.metrics import mean_squared_error\n",
    "from sklearn.model_selection import train_test_split, KFold, cross_val_score\n",
    "\n",
    "import pandas as pd\n",
    "import numpy as np"
   ]
  },
  {
   "cell_type": "code",
   "execution_count": 23,
   "metadata": {},
   "outputs": [],
   "source": [
    "std = pd.read_csv(\"../Data/FE/crime_num_fe.csv\")\n",
    "pca = pd.read_csv(\"../Data/FE/crime_num_dr.csv\")\n",
    "pca = pca.iloc[:, 1:]\n",
    "vs = pd.read_csv(\"../Data/FE/crime_num_varselect.csv\")\n",
    "vs = vs.iloc[:, 1:]\n",
    "\n",
    "y = std['Num_Crimes']"
   ]
  },
  {
   "cell_type": "markdown",
   "metadata": {},
   "source": [
    "# Train Test Split (just want idx)"
   ]
  },
  {
   "cell_type": "code",
   "execution_count": 5,
   "metadata": {},
   "outputs": [],
   "source": [
    "X = std.drop(['Num_Crimes'], axis=1)\n",
    "X_train, X_test, y_train, y_test = train_test_split(X, y, random_state=308, test_size=.2)\n",
    "train_idx = X_train.index\n",
    "test_idx = X_test.index"
   ]
  },
  {
   "cell_type": "markdown",
   "metadata": {},
   "source": [
    "STD"
   ]
  },
  {
   "cell_type": "code",
   "execution_count": 27,
   "metadata": {},
   "outputs": [],
   "source": [
    "X = std.drop(['Num_Crimes', 'Date','Day', 'Month', 'Year','TS_interval'], axis=1)\n",
    "X_train = X.iloc[train_idx,]\n",
    "X_test = X.iloc[test_idx,]"
   ]
  },
  {
   "cell_type": "code",
   "execution_count": 28,
   "metadata": {},
   "outputs": [],
   "source": [
    "# transform\n",
    "categorical_cols = X.select_dtypes(include=['object', 'category']).columns.tolist()\n",
    "numeric_cols = X.select_dtypes(include=['int64', 'float64']).columns.tolist()\n",
    "numeric_transformer = Pipeline(steps=[\n",
    "    ('scaler', StandardScaler())\n",
    "])\n",
    "categorical_transformer = Pipeline(steps=[\n",
    "    ('onehot', OneHotEncoder(handle_unknown='ignore'))\n",
    "])\n",
    "preprocessor = ColumnTransformer(\n",
    "    transformers=[\n",
    "        ('num', numeric_transformer, numeric_cols),\n",
    "        ('cat', categorical_transformer, categorical_cols)\n",
    "    ])\n",
    "\n",
    "# RF\n",
    "rf_pipe = Pipeline([\n",
    "    ('preprocessor', preprocessor), \n",
    "    ('rf', RandomForestRegressor(min))\n",
    "])\n",
    "n_trees = [100,250,500]\n",
    "max_depth = range(1,5,1)\n",
    "min_samples = range(1,51,10)\n",
    "params = {\n",
    "  'rf__n_estimators': n_trees,\n",
    "  'rf__max_depth': max_depth,\n",
    "  'rf__min_samples_leaf': min_samples\n",
    "}\n"
   ]
  },
  {
   "cell_type": "code",
   "execution_count": 29,
   "metadata": {},
   "outputs": [
    {
     "name": "stdout",
     "output_type": "stream",
     "text": [
      "{'rf__n_estimators': 500, 'rf__min_samples_leaf': 1, 'rf__max_depth': 4}\n"
     ]
    }
   ],
   "source": [
    "rf_tune = RandomizedSearchCV(rf_pipe, param_distributions=params, scoring='neg_mean_squared_error', cv=5)\n",
    "rf_tune.fit(X_train, y_train)\n",
    "print(rf_tune.best_params_)"
   ]
  },
  {
   "cell_type": "code",
   "execution_count": 30,
   "metadata": {},
   "outputs": [
    {
     "name": "stdout",
     "output_type": "stream",
     "text": [
      "RMSE: 4.6327690393391245\n",
      "Var Red: 0.3607031294209393\n"
     ]
    }
   ],
   "source": [
    "# validation\n",
    "preds = rf_tune.predict(X_test)\n",
    "print(f\"RMSE: {mean_squared_error(y_test, preds, squared=False)}\") # rmse\n",
    "print(f\"Var Red: {np.corrcoef(y_test, preds)[0,1]**2}\") # var reduction"
   ]
  },
  {
   "cell_type": "code",
   "execution_count": 31,
   "metadata": {},
   "outputs": [
    {
     "name": "stdout",
     "output_type": "stream",
     "text": [
      "RMSE: 4.68789079093206\n",
      "Var Red: 0.3863931759807948\n"
     ]
    }
   ],
   "source": [
    "# on original data\n",
    "preds = rf_tune.predict(X)\n",
    "print(f\"RMSE: {mean_squared_error(y, preds, squared=False)}\") # rmse\n",
    "print(f\"Var Red: {np.corrcoef(y, preds)[0,1]**2}\") # var reduction"
   ]
  },
  {
   "cell_type": "markdown",
   "metadata": {},
   "source": [
    "Plot for Preds"
   ]
  },
  {
   "cell_type": "code",
   "execution_count": 32,
   "metadata": {},
   "outputs": [],
   "source": [
    "np.savetxt(\"PyPreds/rfpreds.csv\", preds, delimiter=\",\")"
   ]
  },
  {
   "cell_type": "markdown",
   "metadata": {},
   "source": [
    "PCA"
   ]
  },
  {
   "cell_type": "code",
   "execution_count": 11,
   "metadata": {},
   "outputs": [],
   "source": [
    "X = pca.drop(['Num_Crimes', 'Date','Day', 'Month', 'Year','TS_interval'], axis=1)\n",
    "X_train = X.iloc[train_idx,]\n",
    "X_test = X.iloc[test_idx,]"
   ]
  },
  {
   "cell_type": "code",
   "execution_count": 12,
   "metadata": {},
   "outputs": [],
   "source": [
    "# transform\n",
    "categorical_cols = X.select_dtypes(include=['object', 'category']).columns.tolist()\n",
    "numeric_cols = X.select_dtypes(include=['int64', 'float64']).columns.tolist()\n",
    "numeric_transformer = Pipeline(steps=[\n",
    "    ('scaler', StandardScaler())\n",
    "])\n",
    "categorical_transformer = Pipeline(steps=[\n",
    "    ('onehot', OneHotEncoder(handle_unknown='ignore'))\n",
    "])\n",
    "preprocessor = ColumnTransformer(\n",
    "    transformers=[\n",
    "        ('num', numeric_transformer, numeric_cols),\n",
    "        ('cat', categorical_transformer, categorical_cols)\n",
    "    ])\n",
    "\n",
    "# RF\n",
    "rf_pipe = Pipeline([\n",
    "    ('preprocessor', preprocessor), \n",
    "    ('rf', RandomForestRegressor(min))\n",
    "])\n",
    "n_trees = [100,250,500]\n",
    "max_depth = range(1,5,1)\n",
    "min_samples = range(1,51,10)\n",
    "params = {\n",
    "  'rf__n_estimators': n_trees,\n",
    "  'rf__max_depth': max_depth,\n",
    "  'rf__min_samples_leaf': min_samples\n",
    "}\n"
   ]
  },
  {
   "cell_type": "code",
   "execution_count": 13,
   "metadata": {},
   "outputs": [
    {
     "name": "stdout",
     "output_type": "stream",
     "text": [
      "{'rf__n_estimators': 500, 'rf__min_samples_leaf': 21, 'rf__max_depth': 4}\n"
     ]
    }
   ],
   "source": [
    "rf_tune = RandomizedSearchCV(rf_pipe, param_distributions=params, scoring='neg_mean_squared_error', cv=5)\n",
    "rf_tune.fit(X_train, y_train)\n",
    "print(rf_tune.best_params_)"
   ]
  },
  {
   "cell_type": "code",
   "execution_count": 14,
   "metadata": {},
   "outputs": [
    {
     "name": "stdout",
     "output_type": "stream",
     "text": [
      "RMSE: 4.792393271923041\n",
      "Var Red: 0.3153959797356284\n"
     ]
    }
   ],
   "source": [
    "# validation\n",
    "preds = rf_tune.predict(X_test)\n",
    "print(f\"RMSE: {mean_squared_error(y_test, preds, squared=False)}\") # rmse\n",
    "print(f\"Var Red: {np.corrcoef(y_test, preds)[0,1]**2}\") # var reduction"
   ]
  },
  {
   "cell_type": "code",
   "execution_count": 15,
   "metadata": {},
   "outputs": [
    {
     "name": "stdout",
     "output_type": "stream",
     "text": [
      "RMSE: 4.855682964752859\n",
      "Var Red: 0.3416966722882666\n"
     ]
    }
   ],
   "source": [
    "# on original data\n",
    "preds = rf_tune.predict(X)\n",
    "print(f\"RMSE: {mean_squared_error(y, preds, squared=False)}\") # rmse\n",
    "print(f\"Var Red: {np.corrcoef(y, preds)[0,1]**2}\") # var reduction"
   ]
  },
  {
   "cell_type": "markdown",
   "metadata": {},
   "source": [
    "VS"
   ]
  },
  {
   "cell_type": "code",
   "execution_count": 17,
   "metadata": {},
   "outputs": [],
   "source": [
    "X = vs.drop(['Num_Crimes', 'Date','Day', 'Month', 'Year','TS_interval'], axis=1)\n",
    "X_train = X.iloc[train_idx,]\n",
    "X_test = X.iloc[test_idx,]"
   ]
  },
  {
   "cell_type": "code",
   "execution_count": 18,
   "metadata": {},
   "outputs": [],
   "source": [
    "# transform\n",
    "categorical_cols = X.select_dtypes(include=['object', 'category']).columns.tolist()\n",
    "numeric_cols = X.select_dtypes(include=['int64', 'float64']).columns.tolist()\n",
    "numeric_transformer = Pipeline(steps=[\n",
    "    ('scaler', StandardScaler())\n",
    "])\n",
    "categorical_transformer = Pipeline(steps=[\n",
    "    ('onehot', OneHotEncoder(handle_unknown='ignore'))\n",
    "])\n",
    "preprocessor = ColumnTransformer(\n",
    "    transformers=[\n",
    "        ('num', numeric_transformer, numeric_cols),\n",
    "        ('cat', categorical_transformer, categorical_cols)\n",
    "    ])\n",
    "\n",
    "# RF\n",
    "rf_pipe = Pipeline([\n",
    "    ('preprocessor', preprocessor), \n",
    "    ('rf', RandomForestRegressor(min))\n",
    "])\n",
    "n_trees = [100,250,500]\n",
    "max_depth = range(1,5,1)\n",
    "min_samples = range(1,51,10)\n",
    "params = {\n",
    "  'rf__n_estimators': n_trees,\n",
    "  'rf__max_depth': max_depth,\n",
    "  'rf__min_samples_leaf': min_samples\n",
    "}"
   ]
  },
  {
   "cell_type": "code",
   "execution_count": 19,
   "metadata": {},
   "outputs": [
    {
     "name": "stdout",
     "output_type": "stream",
     "text": [
      "{'rf__n_estimators': 500, 'rf__min_samples_leaf': 11, 'rf__max_depth': 4}\n"
     ]
    }
   ],
   "source": [
    "rf_tune = RandomizedSearchCV(rf_pipe, param_distributions=params, scoring='neg_mean_squared_error', cv=5)\n",
    "rf_tune.fit(X_train, y_train)\n",
    "print(rf_tune.best_params_)"
   ]
  },
  {
   "cell_type": "code",
   "execution_count": 20,
   "metadata": {},
   "outputs": [
    {
     "name": "stdout",
     "output_type": "stream",
     "text": [
      "RMSE: 4.660555039768128\n",
      "Var Red: 0.35271974655364396\n"
     ]
    }
   ],
   "source": [
    "# validation\n",
    "preds = rf_tune.predict(X_test)\n",
    "print(f\"RMSE: {mean_squared_error(y_test, preds, squared=False)}\") # rmse\n",
    "print(f\"Var Red: {np.corrcoef(y_test, preds)[0,1]**2}\") # var reduction"
   ]
  },
  {
   "cell_type": "code",
   "execution_count": 21,
   "metadata": {},
   "outputs": [
    {
     "name": "stdout",
     "output_type": "stream",
     "text": [
      "RMSE: 4.736585100315489\n",
      "Var Red: 0.37358146814327275\n"
     ]
    }
   ],
   "source": [
    "# on original data\n",
    "preds = rf_tune.predict(X)\n",
    "print(f\"RMSE: {mean_squared_error(y, preds, squared=False)}\") # rmse\n",
    "print(f\"Var Red: {np.corrcoef(y, preds)[0,1]**2}\") # var reduction"
   ]
  }
 ],
 "metadata": {
  "kernelspec": {
   "display_name": "base",
   "language": "python",
   "name": "python3"
  },
  "language_info": {
   "codemirror_mode": {
    "name": "ipython",
    "version": 3
   },
   "file_extension": ".py",
   "mimetype": "text/x-python",
   "name": "python",
   "nbconvert_exporter": "python",
   "pygments_lexer": "ipython3",
   "version": "3.11.4"
  }
 },
 "nbformat": 4,
 "nbformat_minor": 2
}
