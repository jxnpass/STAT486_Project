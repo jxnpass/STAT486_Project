{
 "cells": [
  {
   "cell_type": "code",
   "execution_count": 1,
   "metadata": {},
   "outputs": [
    {
     "name": "stderr",
     "output_type": "stream",
     "text": [
      "/Users/jacksonpassey/anaconda3/lib/python3.11/site-packages/pandas/core/arrays/masked.py:60: UserWarning: Pandas requires version '1.3.6' or newer of 'bottleneck' (version '1.3.5' currently installed).\n",
      "  from pandas.core import (\n"
     ]
    }
   ],
   "source": [
    "from sklearn.model_selection import train_test_split, GridSearchCV\n",
    "from sklearn.preprocessing import StandardScaler, OneHotEncoder\n",
    "from sklearn.compose import ColumnTransformer\n",
    "from sklearn.pipeline import Pipeline\n",
    "from sklearn.linear_model import LassoCV\n",
    "from sklearn.metrics import mean_squared_error\n",
    "\n",
    "import pandas as pd\n",
    "import numpy as np"
   ]
  },
  {
   "cell_type": "code",
   "execution_count": 2,
   "metadata": {},
   "outputs": [],
   "source": [
    "std = pd.read_csv(\"../Data/FE/crime_num_fe.csv\")\n",
    "pca = pd.read_csv(\"../Data/FE/crime_num_dr.csv\")\n",
    "pca = pca.iloc[:, 1:]\n",
    "vs = pd.read_csv(\"../Data/FE/crime_num_varselect.csv\")\n",
    "vs = vs.iloc[:, 1:]\n",
    "\n",
    "y = std['Num_Crimes']"
   ]
  },
  {
   "cell_type": "markdown",
   "metadata": {},
   "source": [
    "# Train Test Split (just want idx)"
   ]
  },
  {
   "cell_type": "code",
   "execution_count": 3,
   "metadata": {},
   "outputs": [],
   "source": [
    "X = std.drop(['Num_Crimes'], axis=1)\n",
    "X_train, X_test, y_train, y_test = train_test_split(X, y, random_state=308, test_size=.2)\n",
    "train_idx = X_train.index\n",
    "test_idx = X_test.index"
   ]
  },
  {
   "cell_type": "markdown",
   "metadata": {},
   "source": [
    "STD"
   ]
  },
  {
   "cell_type": "code",
   "execution_count": 20,
   "metadata": {},
   "outputs": [],
   "source": [
    "X = std.drop(['Num_Crimes', 'Date','Day', 'Month', 'Year','TS_interval'], axis=1)\n",
    "X_train = X.iloc[train_idx,]\n",
    "X_test = X.iloc[test_idx,]"
   ]
  },
  {
   "cell_type": "code",
   "execution_count": 21,
   "metadata": {},
   "outputs": [],
   "source": [
    "categorical_cols = X.select_dtypes(include=['object', 'category']).columns.tolist()\n",
    "numeric_cols = X.select_dtypes(include=['int64', 'float64']).columns.tolist()\n",
    "numeric_transformer = Pipeline(steps=[\n",
    "    ('scaler', StandardScaler())\n",
    "])\n",
    "categorical_transformer = Pipeline(steps=[\n",
    "    ('onehot', OneHotEncoder(handle_unknown='ignore'))\n",
    "])\n",
    "preprocessor = ColumnTransformer(\n",
    "    transformers=[\n",
    "        ('num', numeric_transformer, numeric_cols),\n",
    "        ('cat', categorical_transformer, categorical_cols)\n",
    "    ])"
   ]
  },
  {
   "cell_type": "code",
   "execution_count": 22,
   "metadata": {},
   "outputs": [
    {
     "name": "stderr",
     "output_type": "stream",
     "text": [
      "/Users/jacksonpassey/anaconda3/lib/python3.11/site-packages/sklearn/linear_model/_coordinate_descent.py:614: ConvergenceWarning: Objective did not converge. You might want to increase the number of iterations. Duality gap: 53373.963664172596, tolerance: 47.811655030614574\n",
      "  model = cd_fast.enet_coordinate_descent_gram(\n",
      "/Users/jacksonpassey/anaconda3/lib/python3.11/site-packages/sklearn/linear_model/_coordinate_descent.py:614: ConvergenceWarning: Objective did not converge. You might want to increase the number of iterations. Duality gap: 140376.18983551915, tolerance: 47.811655030614574\n",
      "  model = cd_fast.enet_coordinate_descent_gram(\n",
      "/Users/jacksonpassey/anaconda3/lib/python3.11/site-packages/sklearn/linear_model/_coordinate_descent.py:614: ConvergenceWarning: Objective did not converge. You might want to increase the number of iterations. Duality gap: 151689.46604433458, tolerance: 47.811655030614574\n",
      "  model = cd_fast.enet_coordinate_descent_gram(\n",
      "/Users/jacksonpassey/anaconda3/lib/python3.11/site-packages/sklearn/linear_model/_coordinate_descent.py:614: ConvergenceWarning: Objective did not converge. You might want to increase the number of iterations. Duality gap: 41942.662473407516, tolerance: 47.99970384760753\n",
      "  model = cd_fast.enet_coordinate_descent_gram(\n",
      "/Users/jacksonpassey/anaconda3/lib/python3.11/site-packages/sklearn/linear_model/_coordinate_descent.py:614: ConvergenceWarning: Objective did not converge. You might want to increase the number of iterations. Duality gap: 130765.5045788264, tolerance: 47.99970384760753\n",
      "  model = cd_fast.enet_coordinate_descent_gram(\n",
      "/Users/jacksonpassey/anaconda3/lib/python3.11/site-packages/sklearn/linear_model/_coordinate_descent.py:614: ConvergenceWarning: Objective did not converge. You might want to increase the number of iterations. Duality gap: 153106.83271438561, tolerance: 47.99970384760753\n",
      "  model = cd_fast.enet_coordinate_descent_gram(\n",
      "/Users/jacksonpassey/anaconda3/lib/python3.11/site-packages/sklearn/linear_model/_coordinate_descent.py:614: ConvergenceWarning: Objective did not converge. You might want to increase the number of iterations. Duality gap: 21906.29120115965, tolerance: 48.180786666666656\n",
      "  model = cd_fast.enet_coordinate_descent_gram(\n",
      "/Users/jacksonpassey/anaconda3/lib/python3.11/site-packages/sklearn/linear_model/_coordinate_descent.py:614: ConvergenceWarning: Objective did not converge. You might want to increase the number of iterations. Duality gap: 142279.71735208775, tolerance: 48.180786666666656\n",
      "  model = cd_fast.enet_coordinate_descent_gram(\n",
      "/Users/jacksonpassey/anaconda3/lib/python3.11/site-packages/sklearn/linear_model/_coordinate_descent.py:614: ConvergenceWarning: Objective did not converge. You might want to increase the number of iterations. Duality gap: 154263.10861028358, tolerance: 48.180786666666656\n",
      "  model = cd_fast.enet_coordinate_descent_gram(\n",
      "/Users/jacksonpassey/anaconda3/lib/python3.11/site-packages/sklearn/linear_model/_coordinate_descent.py:614: ConvergenceWarning: Objective did not converge. You might want to increase the number of iterations. Duality gap: 19405.83442949422, tolerance: 47.96937729402872\n",
      "  model = cd_fast.enet_coordinate_descent_gram(\n",
      "/Users/jacksonpassey/anaconda3/lib/python3.11/site-packages/sklearn/linear_model/_coordinate_descent.py:614: ConvergenceWarning: Objective did not converge. You might want to increase the number of iterations. Duality gap: 141107.9885791892, tolerance: 47.96937729402872\n",
      "  model = cd_fast.enet_coordinate_descent_gram(\n",
      "/Users/jacksonpassey/anaconda3/lib/python3.11/site-packages/sklearn/linear_model/_coordinate_descent.py:614: ConvergenceWarning: Objective did not converge. You might want to increase the number of iterations. Duality gap: 152864.21449782795, tolerance: 47.96937729402872\n",
      "  model = cd_fast.enet_coordinate_descent_gram(\n",
      "/Users/jacksonpassey/anaconda3/lib/python3.11/site-packages/sklearn/linear_model/_coordinate_descent.py:614: ConvergenceWarning: Objective did not converge. You might want to increase the number of iterations. Duality gap: 68810.03791458879, tolerance: 48.79325348450493\n",
      "  model = cd_fast.enet_coordinate_descent_gram(\n",
      "/Users/jacksonpassey/anaconda3/lib/python3.11/site-packages/sklearn/linear_model/_coordinate_descent.py:614: ConvergenceWarning: Objective did not converge. You might want to increase the number of iterations. Duality gap: 145411.39824498995, tolerance: 48.79325348450493\n",
      "  model = cd_fast.enet_coordinate_descent_gram(\n",
      "/Users/jacksonpassey/anaconda3/lib/python3.11/site-packages/sklearn/linear_model/_coordinate_descent.py:614: ConvergenceWarning: Objective did not converge. You might want to increase the number of iterations. Duality gap: 156346.71200793015, tolerance: 48.79325348450493\n",
      "  model = cd_fast.enet_coordinate_descent_gram(\n",
      "/Users/jacksonpassey/anaconda3/lib/python3.11/site-packages/sklearn/linear_model/_coordinate_descent.py:628: ConvergenceWarning: Objective did not converge. You might want to increase the number of iterations, check the scale of the features or consider increasing regularisation. Duality gap: 1.004e+05, tolerance: 6.019e+01\n",
      "  model = cd_fast.enet_coordinate_descent(\n"
     ]
    }
   ],
   "source": [
    "Xt_train = preprocessor.fit_transform(X_train)\n",
    "lcv = LassoCV(cv=5, alphas=np.logspace(-6, 6, 10)).fit(Xt_train, y_train)"
   ]
  },
  {
   "cell_type": "code",
   "execution_count": 23,
   "metadata": {},
   "outputs": [
    {
     "name": "stdout",
     "output_type": "stream",
     "text": [
      "RMSE: 4.718288242680718\n",
      "Var Red: 0.3363159256745683\n"
     ]
    }
   ],
   "source": [
    "# validation\n",
    "Xt_test = preprocessor.transform(X_test)\n",
    "preds = lcv.predict(Xt_test)\n",
    "print(f\"RMSE: {mean_squared_error(y_test, preds, squared=False)}\") # rmse\n",
    "print(f\"Var Red: {np.corrcoef(y_test, preds)[0,1]**2}\") # var reduction"
   ]
  },
  {
   "cell_type": "code",
   "execution_count": 24,
   "metadata": {},
   "outputs": [
    {
     "name": "stdout",
     "output_type": "stream",
     "text": [
      "RMSE: 4.81325644632486\n",
      "Var Red: 0.3531580677732623\n"
     ]
    }
   ],
   "source": [
    "# on original data\n",
    "Xt = preprocessor.transform(X)\n",
    "preds = lcv.predict(Xt)\n",
    "print(f\"RMSE: {mean_squared_error(y, preds, squared=False)}\") # rmse\n",
    "print(f\"Var Red: {np.corrcoef(y, preds)[0,1]**2}\") # var reduction"
   ]
  },
  {
   "cell_type": "code",
   "execution_count": 25,
   "metadata": {},
   "outputs": [],
   "source": [
    "np.savetxt(\"PyPreds/lassopreds.csv\", preds, delimiter=\",\")"
   ]
  },
  {
   "cell_type": "markdown",
   "metadata": {},
   "source": [
    "PCA"
   ]
  },
  {
   "cell_type": "code",
   "execution_count": 9,
   "metadata": {},
   "outputs": [],
   "source": [
    "X = pca.drop(['Num_Crimes', 'Date','Day', 'Month', 'Year','TS_interval'], axis=1)\n",
    "X_train = X.iloc[train_idx,]\n",
    "X_test = X.iloc[test_idx,]"
   ]
  },
  {
   "cell_type": "code",
   "execution_count": 10,
   "metadata": {},
   "outputs": [],
   "source": [
    "categorical_cols = X.select_dtypes(include=['object', 'category']).columns.tolist()\n",
    "numeric_cols = X.select_dtypes(include=['int64', 'float64']).columns.tolist()\n",
    "numeric_transformer = Pipeline(steps=[\n",
    "    ('scaler', StandardScaler())\n",
    "])\n",
    "categorical_transformer = Pipeline(steps=[\n",
    "    ('onehot', OneHotEncoder(handle_unknown='ignore'))\n",
    "])\n",
    "preprocessor = ColumnTransformer(\n",
    "    transformers=[\n",
    "        ('num', numeric_transformer, numeric_cols),\n",
    "        ('cat', categorical_transformer, categorical_cols)\n",
    "    ])"
   ]
  },
  {
   "cell_type": "code",
   "execution_count": 11,
   "metadata": {},
   "outputs": [
    {
     "name": "stderr",
     "output_type": "stream",
     "text": [
      "/Users/jacksonpassey/anaconda3/lib/python3.11/site-packages/sklearn/linear_model/_coordinate_descent.py:589: ConvergenceWarning: Objective did not converge. You might want to increase the number of iterations. Duality gap: 331.2772948954953, tolerance: 47.811655030614574\n",
      "  model = cd_fast.sparse_enet_coordinate_descent(\n",
      "/Users/jacksonpassey/anaconda3/lib/python3.11/site-packages/sklearn/linear_model/_coordinate_descent.py:589: ConvergenceWarning: Objective did not converge. You might want to increase the number of iterations. Duality gap: 386.8744106934755, tolerance: 47.811655030614574\n",
      "  model = cd_fast.sparse_enet_coordinate_descent(\n",
      "/Users/jacksonpassey/anaconda3/lib/python3.11/site-packages/sklearn/linear_model/_coordinate_descent.py:589: ConvergenceWarning: Objective did not converge. You might want to increase the number of iterations. Duality gap: 1024.9357768218033, tolerance: 47.811655030614574\n",
      "  model = cd_fast.sparse_enet_coordinate_descent(\n",
      "/Users/jacksonpassey/anaconda3/lib/python3.11/site-packages/sklearn/linear_model/_coordinate_descent.py:589: ConvergenceWarning: Objective did not converge. You might want to increase the number of iterations. Duality gap: 51.77808830910362, tolerance: 48.180786666666656\n",
      "  model = cd_fast.sparse_enet_coordinate_descent(\n",
      "/Users/jacksonpassey/anaconda3/lib/python3.11/site-packages/sklearn/linear_model/_coordinate_descent.py:589: ConvergenceWarning: Objective did not converge. You might want to increase the number of iterations. Duality gap: 1066.7709779613651, tolerance: 48.180786666666656\n",
      "  model = cd_fast.sparse_enet_coordinate_descent(\n",
      "/Users/jacksonpassey/anaconda3/lib/python3.11/site-packages/sklearn/linear_model/_coordinate_descent.py:589: ConvergenceWarning: Objective did not converge. You might want to increase the number of iterations. Duality gap: 29097.028916296404, tolerance: 47.96937729402872\n",
      "  model = cd_fast.sparse_enet_coordinate_descent(\n",
      "/Users/jacksonpassey/anaconda3/lib/python3.11/site-packages/sklearn/linear_model/_coordinate_descent.py:589: ConvergenceWarning: Objective did not converge. You might want to increase the number of iterations. Duality gap: 29091.222431307717, tolerance: 47.96937729402872\n",
      "  model = cd_fast.sparse_enet_coordinate_descent(\n",
      "/Users/jacksonpassey/anaconda3/lib/python3.11/site-packages/sklearn/linear_model/_coordinate_descent.py:589: ConvergenceWarning: Objective did not converge. You might want to increase the number of iterations. Duality gap: 29676.98453544613, tolerance: 48.79325348450493\n",
      "  model = cd_fast.sparse_enet_coordinate_descent(\n",
      "/Users/jacksonpassey/anaconda3/lib/python3.11/site-packages/sklearn/linear_model/_coordinate_descent.py:589: ConvergenceWarning: Objective did not converge. You might want to increase the number of iterations. Duality gap: 29670.95946984546, tolerance: 48.79325348450493\n",
      "  model = cd_fast.sparse_enet_coordinate_descent(\n"
     ]
    }
   ],
   "source": [
    "Xt_train = preprocessor.fit_transform(X_train)\n",
    "lcv = LassoCV(cv=5, alphas=np.logspace(-6, 6, 10)).fit(Xt_train, y_train)"
   ]
  },
  {
   "cell_type": "code",
   "execution_count": 12,
   "metadata": {},
   "outputs": [
    {
     "name": "stdout",
     "output_type": "stream",
     "text": [
      "RMSE: 4.774459841732658\n",
      "Var Red: 0.32037796752442593\n"
     ]
    }
   ],
   "source": [
    "# validation\n",
    "Xt_test = preprocessor.transform(X_test)\n",
    "preds = lcv.predict(Xt_test)\n",
    "print(f\"RMSE: {mean_squared_error(y_test, preds, squared=False)}\") # rmse\n",
    "print(f\"Var Red: {np.corrcoef(y_test, preds)[0,1]**2}\") # var reduction"
   ]
  },
  {
   "cell_type": "code",
   "execution_count": 13,
   "metadata": {},
   "outputs": [
    {
     "name": "stdout",
     "output_type": "stream",
     "text": [
      "RMSE: 4.868930606280533\n",
      "Var Red: 0.3381061818621572\n"
     ]
    }
   ],
   "source": [
    "Xt = preprocessor.transform(X)\n",
    "preds = lcv.predict(Xt)\n",
    "print(f\"RMSE: {mean_squared_error(y, preds, squared=False)}\") # rmse\n",
    "print(f\"Var Red: {np.corrcoef(y, preds)[0,1]**2}\") # var reduction"
   ]
  },
  {
   "cell_type": "markdown",
   "metadata": {},
   "source": [
    "VS"
   ]
  },
  {
   "cell_type": "code",
   "execution_count": 14,
   "metadata": {},
   "outputs": [],
   "source": [
    "X = vs.drop(['Num_Crimes', 'Date','Day', 'Month', 'Year','TS_interval'], axis=1)\n",
    "X_train = X.iloc[train_idx,]\n",
    "X_test = X.iloc[test_idx,]"
   ]
  },
  {
   "cell_type": "code",
   "execution_count": 15,
   "metadata": {},
   "outputs": [],
   "source": [
    "categorical_cols = X.select_dtypes(include=['object', 'category']).columns.tolist()\n",
    "numeric_cols = X.select_dtypes(include=['int64', 'float64']).columns.tolist()\n",
    "numeric_transformer = Pipeline(steps=[\n",
    "    ('scaler', StandardScaler())\n",
    "])\n",
    "categorical_transformer = Pipeline(steps=[\n",
    "    ('onehot', OneHotEncoder(handle_unknown='ignore'))\n",
    "])\n",
    "preprocessor = ColumnTransformer(\n",
    "    transformers=[\n",
    "        ('num', numeric_transformer, numeric_cols),\n",
    "        ('cat', categorical_transformer, categorical_cols)\n",
    "    ])"
   ]
  },
  {
   "cell_type": "code",
   "execution_count": 16,
   "metadata": {},
   "outputs": [
    {
     "name": "stderr",
     "output_type": "stream",
     "text": [
      "/Users/jacksonpassey/anaconda3/lib/python3.11/site-packages/sklearn/linear_model/_coordinate_descent.py:614: ConvergenceWarning: Objective did not converge. You might want to increase the number of iterations. Duality gap: 128807.9715680755, tolerance: 47.811655030614574\n",
      "  model = cd_fast.enet_coordinate_descent_gram(\n",
      "/Users/jacksonpassey/anaconda3/lib/python3.11/site-packages/sklearn/linear_model/_coordinate_descent.py:614: ConvergenceWarning: Objective did not converge. You might want to increase the number of iterations. Duality gap: 153343.4423501815, tolerance: 47.811655030614574\n",
      "  model = cd_fast.enet_coordinate_descent_gram(\n",
      "/Users/jacksonpassey/anaconda3/lib/python3.11/site-packages/sklearn/linear_model/_coordinate_descent.py:614: ConvergenceWarning: Objective did not converge. You might want to increase the number of iterations. Duality gap: 140997.99058247884, tolerance: 47.99970384760753\n",
      "  model = cd_fast.enet_coordinate_descent_gram(\n",
      "/Users/jacksonpassey/anaconda3/lib/python3.11/site-packages/sklearn/linear_model/_coordinate_descent.py:614: ConvergenceWarning: Objective did not converge. You might want to increase the number of iterations. Duality gap: 156054.3688145602, tolerance: 47.99970384760753\n",
      "  model = cd_fast.enet_coordinate_descent_gram(\n",
      "/Users/jacksonpassey/anaconda3/lib/python3.11/site-packages/sklearn/linear_model/_coordinate_descent.py:614: ConvergenceWarning: Objective did not converge. You might want to increase the number of iterations. Duality gap: 146017.933254458, tolerance: 48.180786666666656\n",
      "  model = cd_fast.enet_coordinate_descent_gram(\n",
      "/Users/jacksonpassey/anaconda3/lib/python3.11/site-packages/sklearn/linear_model/_coordinate_descent.py:614: ConvergenceWarning: Objective did not converge. You might want to increase the number of iterations. Duality gap: 157025.07915309313, tolerance: 48.180786666666656\n",
      "  model = cd_fast.enet_coordinate_descent_gram(\n",
      "/Users/jacksonpassey/anaconda3/lib/python3.11/site-packages/sklearn/linear_model/_coordinate_descent.py:614: ConvergenceWarning: Objective did not converge. You might want to increase the number of iterations. Duality gap: 140674.9593786096, tolerance: 47.96937729402872\n",
      "  model = cd_fast.enet_coordinate_descent_gram(\n",
      "/Users/jacksonpassey/anaconda3/lib/python3.11/site-packages/sklearn/linear_model/_coordinate_descent.py:614: ConvergenceWarning: Objective did not converge. You might want to increase the number of iterations. Duality gap: 155864.33763806382, tolerance: 47.96937729402872\n",
      "  model = cd_fast.enet_coordinate_descent_gram(\n",
      "/Users/jacksonpassey/anaconda3/lib/python3.11/site-packages/sklearn/linear_model/_coordinate_descent.py:614: ConvergenceWarning: Objective did not converge. You might want to increase the number of iterations. Duality gap: 148819.05040397367, tolerance: 48.79325348450493\n",
      "  model = cd_fast.enet_coordinate_descent_gram(\n",
      "/Users/jacksonpassey/anaconda3/lib/python3.11/site-packages/sklearn/linear_model/_coordinate_descent.py:614: ConvergenceWarning: Objective did not converge. You might want to increase the number of iterations. Duality gap: 159104.3825494903, tolerance: 48.79325348450493\n",
      "  model = cd_fast.enet_coordinate_descent_gram(\n",
      "/Users/jacksonpassey/anaconda3/lib/python3.11/site-packages/sklearn/linear_model/_coordinate_descent.py:628: ConvergenceWarning: Objective did not converge. You might want to increase the number of iterations, check the scale of the features or consider increasing regularisation. Duality gap: 1.959e+05, tolerance: 6.019e+01\n",
      "  model = cd_fast.enet_coordinate_descent(\n"
     ]
    }
   ],
   "source": [
    "Xt_train = preprocessor.fit_transform(X_train)\n",
    "lcv = LassoCV(cv=5, alphas=np.logspace(-6, 6, 10)).fit(Xt_train, y_train)"
   ]
  },
  {
   "cell_type": "code",
   "execution_count": 17,
   "metadata": {},
   "outputs": [
    {
     "name": "stdout",
     "output_type": "stream",
     "text": [
      "RMSE: 4.749139092011689\n",
      "Var Red: 0.32782558091670244\n"
     ]
    }
   ],
   "source": [
    "# validation\n",
    "Xt_test = preprocessor.transform(X_test)\n",
    "preds = lcv.predict(Xt_test)\n",
    "print(f\"RMSE: {mean_squared_error(y_test, preds, squared=False)}\") # rmse\n",
    "print(f\"Var Red: {np.corrcoef(y_test, preds)[0,1]**2}\") # varuabce reduction"
   ]
  },
  {
   "cell_type": "code",
   "execution_count": 18,
   "metadata": {},
   "outputs": [
    {
     "name": "stdout",
     "output_type": "stream",
     "text": [
      "RMSE: 4.849853915604818\n",
      "Var Red: 0.3433015630667279\n"
     ]
    }
   ],
   "source": [
    "Xt = preprocessor.transform(X)\n",
    "preds = lcv.predict(Xt)\n",
    "print(f\"RMSE: {mean_squared_error(y, preds, squared=False)}\") # rmse\n",
    "print(f\"Var Red: {np.corrcoef(y, preds)[0,1]**2}\") # varuabce reduction"
   ]
  },
  {
   "cell_type": "code",
   "execution_count": 19,
   "metadata": {},
   "outputs": [
    {
     "data": {
      "text/plain": [
       "array([1.00000000e-06, 2.15443469e-05, 4.64158883e-04, 1.00000000e-02,\n",
       "       2.15443469e-01, 4.64158883e+00, 1.00000000e+02, 2.15443469e+03,\n",
       "       4.64158883e+04, 1.00000000e+06])"
      ]
     },
     "execution_count": 19,
     "metadata": {},
     "output_type": "execute_result"
    }
   ],
   "source": [
    "np.logspace(-6, 6, 10)"
   ]
  }
 ],
 "metadata": {
  "kernelspec": {
   "display_name": "base",
   "language": "python",
   "name": "python3"
  },
  "language_info": {
   "codemirror_mode": {
    "name": "ipython",
    "version": 3
   },
   "file_extension": ".py",
   "mimetype": "text/x-python",
   "name": "python",
   "nbconvert_exporter": "python",
   "pygments_lexer": "ipython3",
   "version": "3.11.4"
  }
 },
 "nbformat": 4,
 "nbformat_minor": 2
}
