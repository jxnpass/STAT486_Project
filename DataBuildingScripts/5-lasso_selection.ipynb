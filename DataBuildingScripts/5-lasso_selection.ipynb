{
 "cells": [
  {
   "cell_type": "code",
   "execution_count": 80,
   "metadata": {},
   "outputs": [],
   "source": [
    "from sklearn.preprocessing import StandardScaler, OneHotEncoder\n",
    "from sklearn.compose import ColumnTransformer\n",
    "from sklearn.pipeline import Pipeline\n",
    "from sklearn.linear_model import Lasso\n",
    "\n",
    "import pandas as pd\n",
    "import numpy as np"
   ]
  },
  {
   "cell_type": "code",
   "execution_count": 70,
   "metadata": {},
   "outputs": [],
   "source": [
    "crime_num = pd.read_csv(\"../Data/FE/crime_num_fe.csv\")\n",
    "crime_violent = pd.read_csv(\"../Data/FE/crime_violent_fe.csv\")"
   ]
  },
  {
   "cell_type": "code",
   "execution_count": 71,
   "metadata": {},
   "outputs": [
    {
     "data": {
      "text/plain": [
       "Index(['Date', 'TS_interval', 'Time_Interval', 'Num_Crimes', 'Day', 'Month',\n",
       "       'Year', 'tempmax', 'tempmin', 'temp', 'feelslikemax', 'feelslikemin',\n",
       "       'feelslike', 'dew', 'humidity', 'precip', 'precipprob', 'precipcover',\n",
       "       'preciptype', 'snow', 'snowdepth', 'windgust', 'windspeed', 'winddir',\n",
       "       'sealevelpressure', 'cloudcover', 'visibility', 'solarradiation',\n",
       "       'solarenergy', 'uvindex', 'severerisk', 'is_FullMoon_BLOCK', 'suntime',\n",
       "       'Holiday', 'NationalIncident'],\n",
       "      dtype='object')"
      ]
     },
     "execution_count": 71,
     "metadata": {},
     "output_type": "execute_result"
    }
   ],
   "source": [
    "crime_num.columns"
   ]
  },
  {
   "cell_type": "code",
   "execution_count": 72,
   "metadata": {},
   "outputs": [],
   "source": [
    "y = crime_num['Num_Crimes']\n",
    "X = crime_num.drop(columns=['Num_Crimes','TS_interval','Date','Day','Month', 'Year','tempmax', 'tempmin', 'feelslikemax', 'feelslikemin', 'dew'])\n",
    "X['Holiday'] = X['Holiday'] != \"None\""
   ]
  },
  {
   "cell_type": "markdown",
   "metadata": {},
   "source": [
    "# Lasso Variable Selection\n",
    "Unlike with PCA/dimension reduction, this aim is to determine if filtering the data to certain columns improve predictions"
   ]
  },
  {
   "cell_type": "code",
   "execution_count": 73,
   "metadata": {},
   "outputs": [],
   "source": [
    "categorical_cols = X.select_dtypes(include=['object', 'category']).columns.tolist()\n",
    "numeric_cols = X.select_dtypes(include=['int64', 'float64']).columns.tolist()\n",
    "\n",
    "# Create a transformer for numeric data\n",
    "numeric_transformer = Pipeline(steps=[\n",
    "    ('scaler', StandardScaler())\n",
    "])\n",
    "\n",
    "# Create a transformer for categorical data\n",
    "categorical_transformer = Pipeline(steps=[\n",
    "    ('onehot', OneHotEncoder(handle_unknown='ignore'))\n",
    "])\n",
    "\n",
    "# Combine transformers into a preprocessor\n",
    "preprocessor = ColumnTransformer(\n",
    "    transformers=[\n",
    "        ('num', numeric_transformer, numeric_cols),\n",
    "        ('cat', categorical_transformer, categorical_cols)\n",
    "    ])"
   ]
  },
  {
   "cell_type": "code",
   "execution_count": 74,
   "metadata": {},
   "outputs": [
    {
     "data": {
      "text/html": [
       "<style>#sk-container-id-7 {color: black;}#sk-container-id-7 pre{padding: 0;}#sk-container-id-7 div.sk-toggleable {background-color: white;}#sk-container-id-7 label.sk-toggleable__label {cursor: pointer;display: block;width: 100%;margin-bottom: 0;padding: 0.3em;box-sizing: border-box;text-align: center;}#sk-container-id-7 label.sk-toggleable__label-arrow:before {content: \"▸\";float: left;margin-right: 0.25em;color: #696969;}#sk-container-id-7 label.sk-toggleable__label-arrow:hover:before {color: black;}#sk-container-id-7 div.sk-estimator:hover label.sk-toggleable__label-arrow:before {color: black;}#sk-container-id-7 div.sk-toggleable__content {max-height: 0;max-width: 0;overflow: hidden;text-align: left;background-color: #f0f8ff;}#sk-container-id-7 div.sk-toggleable__content pre {margin: 0.2em;color: black;border-radius: 0.25em;background-color: #f0f8ff;}#sk-container-id-7 input.sk-toggleable__control:checked~div.sk-toggleable__content {max-height: 200px;max-width: 100%;overflow: auto;}#sk-container-id-7 input.sk-toggleable__control:checked~label.sk-toggleable__label-arrow:before {content: \"▾\";}#sk-container-id-7 div.sk-estimator input.sk-toggleable__control:checked~label.sk-toggleable__label {background-color: #d4ebff;}#sk-container-id-7 div.sk-label input.sk-toggleable__control:checked~label.sk-toggleable__label {background-color: #d4ebff;}#sk-container-id-7 input.sk-hidden--visually {border: 0;clip: rect(1px 1px 1px 1px);clip: rect(1px, 1px, 1px, 1px);height: 1px;margin: -1px;overflow: hidden;padding: 0;position: absolute;width: 1px;}#sk-container-id-7 div.sk-estimator {font-family: monospace;background-color: #f0f8ff;border: 1px dotted black;border-radius: 0.25em;box-sizing: border-box;margin-bottom: 0.5em;}#sk-container-id-7 div.sk-estimator:hover {background-color: #d4ebff;}#sk-container-id-7 div.sk-parallel-item::after {content: \"\";width: 100%;border-bottom: 1px solid gray;flex-grow: 1;}#sk-container-id-7 div.sk-label:hover label.sk-toggleable__label {background-color: #d4ebff;}#sk-container-id-7 div.sk-serial::before {content: \"\";position: absolute;border-left: 1px solid gray;box-sizing: border-box;top: 0;bottom: 0;left: 50%;z-index: 0;}#sk-container-id-7 div.sk-serial {display: flex;flex-direction: column;align-items: center;background-color: white;padding-right: 0.2em;padding-left: 0.2em;position: relative;}#sk-container-id-7 div.sk-item {position: relative;z-index: 1;}#sk-container-id-7 div.sk-parallel {display: flex;align-items: stretch;justify-content: center;background-color: white;position: relative;}#sk-container-id-7 div.sk-item::before, #sk-container-id-7 div.sk-parallel-item::before {content: \"\";position: absolute;border-left: 1px solid gray;box-sizing: border-box;top: 0;bottom: 0;left: 50%;z-index: -1;}#sk-container-id-7 div.sk-parallel-item {display: flex;flex-direction: column;z-index: 1;position: relative;background-color: white;}#sk-container-id-7 div.sk-parallel-item:first-child::after {align-self: flex-end;width: 50%;}#sk-container-id-7 div.sk-parallel-item:last-child::after {align-self: flex-start;width: 50%;}#sk-container-id-7 div.sk-parallel-item:only-child::after {width: 0;}#sk-container-id-7 div.sk-dashed-wrapped {border: 1px dashed gray;margin: 0 0.4em 0.5em 0.4em;box-sizing: border-box;padding-bottom: 0.4em;background-color: white;}#sk-container-id-7 div.sk-label label {font-family: monospace;font-weight: bold;display: inline-block;line-height: 1.2em;}#sk-container-id-7 div.sk-label-container {text-align: center;}#sk-container-id-7 div.sk-container {/* jupyter's `normalize.less` sets `[hidden] { display: none; }` but bootstrap.min.css set `[hidden] { display: none !important; }` so we also need the `!important` here to be able to override the default hidden behavior on the sphinx rendered scikit-learn.org. See: https://github.com/scikit-learn/scikit-learn/issues/21755 */display: inline-block !important;position: relative;}#sk-container-id-7 div.sk-text-repr-fallback {display: none;}</style><div id=\"sk-container-id-7\" class=\"sk-top-container\"><div class=\"sk-text-repr-fallback\"><pre>Pipeline(steps=[(&#x27;preprocessor&#x27;,\n",
       "                 ColumnTransformer(transformers=[(&#x27;num&#x27;,\n",
       "                                                  Pipeline(steps=[(&#x27;scaler&#x27;,\n",
       "                                                                   StandardScaler())]),\n",
       "                                                  [&#x27;temp&#x27;, &#x27;feelslike&#x27;,\n",
       "                                                   &#x27;humidity&#x27;, &#x27;precip&#x27;,\n",
       "                                                   &#x27;precipprob&#x27;, &#x27;precipcover&#x27;,\n",
       "                                                   &#x27;snow&#x27;, &#x27;snowdepth&#x27;,\n",
       "                                                   &#x27;windgust&#x27;, &#x27;windspeed&#x27;,\n",
       "                                                   &#x27;winddir&#x27;,\n",
       "                                                   &#x27;sealevelpressure&#x27;,\n",
       "                                                   &#x27;cloudcover&#x27;, &#x27;visibility&#x27;,\n",
       "                                                   &#x27;solarradiation&#x27;,\n",
       "                                                   &#x27;solarenergy&#x27;, &#x27;uvindex&#x27;,\n",
       "                                                   &#x27;severerisk&#x27;, &#x27;suntime&#x27;,\n",
       "                                                   &#x27;NationalIncident&#x27;]),\n",
       "                                                 (&#x27;cat&#x27;,\n",
       "                                                  Pipeline(steps=[(&#x27;onehot&#x27;,\n",
       "                                                                   OneHotEncoder(handle_unknown=&#x27;ignore&#x27;))]),\n",
       "                                                  [&#x27;Time_Interval&#x27;,\n",
       "                                                   &#x27;preciptype&#x27;])])),\n",
       "                (&#x27;regressor&#x27;, Lasso(alpha=0.05, random_state=0))])</pre><b>In a Jupyter environment, please rerun this cell to show the HTML representation or trust the notebook. <br />On GitHub, the HTML representation is unable to render, please try loading this page with nbviewer.org.</b></div><div class=\"sk-container\" hidden><div class=\"sk-item sk-dashed-wrapped\"><div class=\"sk-label-container\"><div class=\"sk-label sk-toggleable\"><input class=\"sk-toggleable__control sk-hidden--visually\" id=\"sk-estimator-id-37\" type=\"checkbox\" ><label for=\"sk-estimator-id-37\" class=\"sk-toggleable__label sk-toggleable__label-arrow\">Pipeline</label><div class=\"sk-toggleable__content\"><pre>Pipeline(steps=[(&#x27;preprocessor&#x27;,\n",
       "                 ColumnTransformer(transformers=[(&#x27;num&#x27;,\n",
       "                                                  Pipeline(steps=[(&#x27;scaler&#x27;,\n",
       "                                                                   StandardScaler())]),\n",
       "                                                  [&#x27;temp&#x27;, &#x27;feelslike&#x27;,\n",
       "                                                   &#x27;humidity&#x27;, &#x27;precip&#x27;,\n",
       "                                                   &#x27;precipprob&#x27;, &#x27;precipcover&#x27;,\n",
       "                                                   &#x27;snow&#x27;, &#x27;snowdepth&#x27;,\n",
       "                                                   &#x27;windgust&#x27;, &#x27;windspeed&#x27;,\n",
       "                                                   &#x27;winddir&#x27;,\n",
       "                                                   &#x27;sealevelpressure&#x27;,\n",
       "                                                   &#x27;cloudcover&#x27;, &#x27;visibility&#x27;,\n",
       "                                                   &#x27;solarradiation&#x27;,\n",
       "                                                   &#x27;solarenergy&#x27;, &#x27;uvindex&#x27;,\n",
       "                                                   &#x27;severerisk&#x27;, &#x27;suntime&#x27;,\n",
       "                                                   &#x27;NationalIncident&#x27;]),\n",
       "                                                 (&#x27;cat&#x27;,\n",
       "                                                  Pipeline(steps=[(&#x27;onehot&#x27;,\n",
       "                                                                   OneHotEncoder(handle_unknown=&#x27;ignore&#x27;))]),\n",
       "                                                  [&#x27;Time_Interval&#x27;,\n",
       "                                                   &#x27;preciptype&#x27;])])),\n",
       "                (&#x27;regressor&#x27;, Lasso(alpha=0.05, random_state=0))])</pre></div></div></div><div class=\"sk-serial\"><div class=\"sk-item sk-dashed-wrapped\"><div class=\"sk-label-container\"><div class=\"sk-label sk-toggleable\"><input class=\"sk-toggleable__control sk-hidden--visually\" id=\"sk-estimator-id-38\" type=\"checkbox\" ><label for=\"sk-estimator-id-38\" class=\"sk-toggleable__label sk-toggleable__label-arrow\">preprocessor: ColumnTransformer</label><div class=\"sk-toggleable__content\"><pre>ColumnTransformer(transformers=[(&#x27;num&#x27;,\n",
       "                                 Pipeline(steps=[(&#x27;scaler&#x27;, StandardScaler())]),\n",
       "                                 [&#x27;temp&#x27;, &#x27;feelslike&#x27;, &#x27;humidity&#x27;, &#x27;precip&#x27;,\n",
       "                                  &#x27;precipprob&#x27;, &#x27;precipcover&#x27;, &#x27;snow&#x27;,\n",
       "                                  &#x27;snowdepth&#x27;, &#x27;windgust&#x27;, &#x27;windspeed&#x27;,\n",
       "                                  &#x27;winddir&#x27;, &#x27;sealevelpressure&#x27;, &#x27;cloudcover&#x27;,\n",
       "                                  &#x27;visibility&#x27;, &#x27;solarradiation&#x27;, &#x27;solarenergy&#x27;,\n",
       "                                  &#x27;uvindex&#x27;, &#x27;severerisk&#x27;, &#x27;suntime&#x27;,\n",
       "                                  &#x27;NationalIncident&#x27;]),\n",
       "                                (&#x27;cat&#x27;,\n",
       "                                 Pipeline(steps=[(&#x27;onehot&#x27;,\n",
       "                                                  OneHotEncoder(handle_unknown=&#x27;ignore&#x27;))]),\n",
       "                                 [&#x27;Time_Interval&#x27;, &#x27;preciptype&#x27;])])</pre></div></div></div><div class=\"sk-parallel\"><div class=\"sk-parallel-item\"><div class=\"sk-item\"><div class=\"sk-label-container\"><div class=\"sk-label sk-toggleable\"><input class=\"sk-toggleable__control sk-hidden--visually\" id=\"sk-estimator-id-39\" type=\"checkbox\" ><label for=\"sk-estimator-id-39\" class=\"sk-toggleable__label sk-toggleable__label-arrow\">num</label><div class=\"sk-toggleable__content\"><pre>[&#x27;temp&#x27;, &#x27;feelslike&#x27;, &#x27;humidity&#x27;, &#x27;precip&#x27;, &#x27;precipprob&#x27;, &#x27;precipcover&#x27;, &#x27;snow&#x27;, &#x27;snowdepth&#x27;, &#x27;windgust&#x27;, &#x27;windspeed&#x27;, &#x27;winddir&#x27;, &#x27;sealevelpressure&#x27;, &#x27;cloudcover&#x27;, &#x27;visibility&#x27;, &#x27;solarradiation&#x27;, &#x27;solarenergy&#x27;, &#x27;uvindex&#x27;, &#x27;severerisk&#x27;, &#x27;suntime&#x27;, &#x27;NationalIncident&#x27;]</pre></div></div></div><div class=\"sk-serial\"><div class=\"sk-item\"><div class=\"sk-serial\"><div class=\"sk-item\"><div class=\"sk-estimator sk-toggleable\"><input class=\"sk-toggleable__control sk-hidden--visually\" id=\"sk-estimator-id-40\" type=\"checkbox\" ><label for=\"sk-estimator-id-40\" class=\"sk-toggleable__label sk-toggleable__label-arrow\">StandardScaler</label><div class=\"sk-toggleable__content\"><pre>StandardScaler()</pre></div></div></div></div></div></div></div></div><div class=\"sk-parallel-item\"><div class=\"sk-item\"><div class=\"sk-label-container\"><div class=\"sk-label sk-toggleable\"><input class=\"sk-toggleable__control sk-hidden--visually\" id=\"sk-estimator-id-41\" type=\"checkbox\" ><label for=\"sk-estimator-id-41\" class=\"sk-toggleable__label sk-toggleable__label-arrow\">cat</label><div class=\"sk-toggleable__content\"><pre>[&#x27;Time_Interval&#x27;, &#x27;preciptype&#x27;]</pre></div></div></div><div class=\"sk-serial\"><div class=\"sk-item\"><div class=\"sk-serial\"><div class=\"sk-item\"><div class=\"sk-estimator sk-toggleable\"><input class=\"sk-toggleable__control sk-hidden--visually\" id=\"sk-estimator-id-42\" type=\"checkbox\" ><label for=\"sk-estimator-id-42\" class=\"sk-toggleable__label sk-toggleable__label-arrow\">OneHotEncoder</label><div class=\"sk-toggleable__content\"><pre>OneHotEncoder(handle_unknown=&#x27;ignore&#x27;)</pre></div></div></div></div></div></div></div></div></div></div><div class=\"sk-item\"><div class=\"sk-estimator sk-toggleable\"><input class=\"sk-toggleable__control sk-hidden--visually\" id=\"sk-estimator-id-43\" type=\"checkbox\" ><label for=\"sk-estimator-id-43\" class=\"sk-toggleable__label sk-toggleable__label-arrow\">Lasso</label><div class=\"sk-toggleable__content\"><pre>Lasso(alpha=0.05, random_state=0)</pre></div></div></div></div></div></div></div>"
      ],
      "text/plain": [
       "Pipeline(steps=[('preprocessor',\n",
       "                 ColumnTransformer(transformers=[('num',\n",
       "                                                  Pipeline(steps=[('scaler',\n",
       "                                                                   StandardScaler())]),\n",
       "                                                  ['temp', 'feelslike',\n",
       "                                                   'humidity', 'precip',\n",
       "                                                   'precipprob', 'precipcover',\n",
       "                                                   'snow', 'snowdepth',\n",
       "                                                   'windgust', 'windspeed',\n",
       "                                                   'winddir',\n",
       "                                                   'sealevelpressure',\n",
       "                                                   'cloudcover', 'visibility',\n",
       "                                                   'solarradiation',\n",
       "                                                   'solarenergy', 'uvindex',\n",
       "                                                   'severerisk', 'suntime',\n",
       "                                                   'NationalIncident']),\n",
       "                                                 ('cat',\n",
       "                                                  Pipeline(steps=[('onehot',\n",
       "                                                                   OneHotEncoder(handle_unknown='ignore'))]),\n",
       "                                                  ['Time_Interval',\n",
       "                                                   'preciptype'])])),\n",
       "                ('regressor', Lasso(alpha=0.05, random_state=0))])"
      ]
     },
     "execution_count": 74,
     "metadata": {},
     "output_type": "execute_result"
    }
   ],
   "source": [
    "lasso_model = Pipeline(steps=[\n",
    "    ('preprocessor', preprocessor),\n",
    "    ('regressor', Lasso(alpha=0.05, random_state=0)) # .05 is subjective, not a model I am predicting so I didn't worry about it at this stage.\n",
    "])\n",
    "\n",
    "# Train the Lasso model\n",
    "lasso_model.fit(X, y)"
   ]
  },
  {
   "cell_type": "markdown",
   "metadata": {},
   "source": [
    "# Extract Feature Names"
   ]
  },
  {
   "cell_type": "code",
   "execution_count": 75,
   "metadata": {},
   "outputs": [
    {
     "name": "stdout",
     "output_type": "stream",
     "text": [
      "Non-zero coefficients and their corresponding features:\n",
      "temp: 0.0\n",
      "feelslike: 0.4036992079095316\n",
      "humidity: 0.308514393594218\n",
      "precip: -0.1397174901074042\n",
      "precipprob: 0.0\n",
      "precipcover: -0.016859716284167058\n",
      "snow: -0.11932217757755441\n",
      "snowdepth: -0.15698512061314124\n",
      "windgust: -0.0\n",
      "windspeed: -0.0\n",
      "winddir: 0.0\n",
      "sealevelpressure: -0.0424542955101843\n",
      "cloudcover: 0.3374734507274959\n",
      "visibility: -0.0\n",
      "solarradiation: 0.3150086218018555\n",
      "solarenergy: 1.0918839819124706\n",
      "uvindex: -0.0\n",
      "severerisk: -0.5846157939085586\n",
      "suntime: -0.23423794990661073\n",
      "NationalIncident: -0.0\n",
      "Time_Interval_B1: -6.709394505044294\n",
      "Time_Interval_B2: -2.058920278637923\n",
      "Time_Interval_B3: 0.1769156346747726\n",
      "Time_Interval_B4: 0.5683630030958223\n",
      "preciptype_None: 0.0\n",
      "preciptype_freezingrain: -0.0\n",
      "preciptype_rain: -0.0\n",
      "preciptype_rain,freezingrain: -0.0\n",
      "preciptype_rain,freezingrain,snow: -0.0\n",
      "preciptype_rain,freezingrain,snow,ice: -0.0\n",
      "preciptype_rain,ice: -0.0\n",
      "preciptype_rain,snow: 0.0\n",
      "preciptype_rain,snow,ice: -0.0\n",
      "preciptype_snow: -0.0\n",
      "preciptype_snow,ice: -0.0\n"
     ]
    }
   ],
   "source": [
    "feature_names = (lasso_model.named_steps['preprocessor']\n",
    "                           .transformers_[1][1]\n",
    "                           .named_steps['onehot']\n",
    "                           .get_feature_names_out())\n",
    "\n",
    "# Extend this list with the names of numeric columns\n",
    "feature_names = np.concatenate([numeric_cols, feature_names])\n",
    "\n",
    "# Get coefficients from the lasso model\n",
    "coefficients = lasso_model.named_steps['regressor'].coef_\n",
    "\n",
    "# Print nonzero coefficients and their corresponding feature names\n",
    "print(\"Non-zero coefficients and their corresponding features:\")\n",
    "for coef, feat in zip(coefficients, feature_names):\n",
    "    print(f\"{feat}: {coef}\")"
   ]
  },
  {
   "cell_type": "code",
   "execution_count": 76,
   "metadata": {},
   "outputs": [
    {
     "name": "stdout",
     "output_type": "stream",
     "text": [
      "['feelslike', 'humidity', 'precip', 'precipcover', 'snow', 'snowdepth', 'sealevelpressure', 'cloudcover', 'solarradiation', 'solarenergy', 'severerisk', 'suntime', 'Time_Interval_B1', 'Time_Interval_B2', 'Time_Interval_B3', 'Time_Interval_B4']\n"
     ]
    },
    {
     "data": {
      "text/plain": [
       "16"
      ]
     },
     "execution_count": 76,
     "metadata": {},
     "output_type": "execute_result"
    }
   ],
   "source": [
    "nonzero_coefs = []\n",
    "for coef, feat in zip(coefficients, feature_names):\n",
    "    if coef != 0:\n",
    "        nonzero_coefs.append(feat)\n",
    "\n",
    "print(nonzero_coefs)\n",
    "len(nonzero_coefs)"
   ]
  },
  {
   "cell_type": "code",
   "execution_count": 78,
   "metadata": {},
   "outputs": [],
   "source": [
    "nonzero_coefs = ['feelslike', 'humidity', 'precip', 'precipcover', 'snow', 'snowdepth', 'sealevelpressure', 'cloudcover', 'solarradiation', 'solarenergy', 'severerisk', 'suntime', 'Time_Interval']\n",
    "\n",
    "filt_num = crime_num[['Num_Crimes', 'TS_interval', 'Date', 'Day', 'Month', 'Year'] + nonzero_coefs]\n",
    "filt_violent = crime_violent[['Num_Crimes', 'TS_interval', 'Date', 'Day', 'Month', 'Year'] + nonzero_coefs]"
   ]
  },
  {
   "cell_type": "code",
   "execution_count": 79,
   "metadata": {},
   "outputs": [],
   "source": [
    "filt_num.to_csv(\"../Data/FE/crime_num_varselect.csv\")\n",
    "filt_violent.to_csv(\"../Data/FE/crime_violent_varselect.csv\")"
   ]
  }
 ],
 "metadata": {
  "kernelspec": {
   "display_name": "base",
   "language": "python",
   "name": "python3"
  },
  "language_info": {
   "codemirror_mode": {
    "name": "ipython",
    "version": 3
   },
   "file_extension": ".py",
   "mimetype": "text/x-python",
   "name": "python",
   "nbconvert_exporter": "python",
   "pygments_lexer": "ipython3",
   "version": "3.11.4"
  }
 },
 "nbformat": 4,
 "nbformat_minor": 2
}
