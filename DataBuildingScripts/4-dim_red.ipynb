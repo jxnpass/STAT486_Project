{
 "cells": [
  {
   "cell_type": "code",
   "execution_count": 14,
   "metadata": {},
   "outputs": [],
   "source": [
    "import pandas as pd\n",
    "from sklearn.decomposition import PCA"
   ]
  },
  {
   "cell_type": "code",
   "execution_count": 15,
   "metadata": {},
   "outputs": [],
   "source": [
    "crime_num = pd.read_csv(\"../Data/FE/crime_num_fe.csv\")\n",
    "crime_violent = pd.read_csv(\"../Data/FE/crime_violent_fe.csv\")\n"
   ]
  },
  {
   "cell_type": "markdown",
   "metadata": {},
   "source": [
    "# PCA\n",
    "I want to group the variables that might be most related to each other, such as temp and precip vars. \n",
    "Each group become one column, and when doing modeling, will be used instead of the features it represents. \n",
    "This will be useful to determine if model prectibability improves with less correlation. "
   ]
  },
  {
   "cell_type": "code",
   "execution_count": 16,
   "metadata": {},
   "outputs": [
    {
     "data": {
      "text/plain": [
       "Index(['Date', 'TS_interval', 'Time_Interval', 'Num_Crimes', 'Day', 'Month',\n",
       "       'Year', 'tempmax', 'tempmin', 'temp', 'feelslikemax', 'feelslikemin',\n",
       "       'feelslike', 'dew', 'humidity', 'precip', 'precipprob', 'precipcover',\n",
       "       'preciptype', 'snow', 'snowdepth', 'windgust', 'windspeed', 'winddir',\n",
       "       'sealevelpressure', 'cloudcover', 'visibility', 'solarradiation',\n",
       "       'solarenergy', 'uvindex', 'severerisk', 'is_FullMoon_BLOCK', 'suntime',\n",
       "       'Holiday', 'NationalIncident'],\n",
       "      dtype='object')"
      ]
     },
     "execution_count": 16,
     "metadata": {},
     "output_type": "execute_result"
    }
   ],
   "source": [
    "crime_num.columns"
   ]
  },
  {
   "cell_type": "code",
   "execution_count": 21,
   "metadata": {},
   "outputs": [],
   "source": [
    "X_temp = crime_num[['tempmax', 'tempmin', 'temp', 'feelslikemax', 'feelslikemin',\n",
    "       'feelslike', 'dew']]\n",
    "\n",
    "X_precip = crime_num[['precip', 'precipprob', 'precipcover', 'snow', 'snowdepth']]\n",
    "\n",
    "X_wind = crime_num[['windgust', 'windspeed', 'winddir']]\n",
    "\n",
    "X_cloud = crime_num[['visibility', 'cloudcover', 'humidity']]\n",
    "\n",
    "X_radiation = crime_num[['solarradiation', 'solarenergy', 'uvindex', 'severerisk']]"
   ]
  },
  {
   "cell_type": "code",
   "execution_count": 22,
   "metadata": {},
   "outputs": [],
   "source": [
    "pca = PCA(n_components=1)\n",
    "X_pca_temp = pca.fit(X_temp)\n",
    "X_pca_temp = X_pca_temp.fit_transform(X_temp)\n",
    "X_pca_precip = pca.fit(X_precip)\n",
    "X_pca_precip = X_pca_precip.fit_transform(X_precip)\n",
    "X_pca_wind = pca.fit(X_wind)\n",
    "X_pca_wind = X_pca_wind.fit_transform(X_wind)\n",
    "X_pca_cloud = pca.fit(X_cloud)\n",
    "X_pca_cloud = X_pca_cloud.fit_transform(X_cloud)\n",
    "X_pca_radiation = pca.fit(X_radiation)\n",
    "X_pca_radiation = X_pca_radiation.fit_transform(X_radiation)\n"
   ]
  },
  {
   "cell_type": "code",
   "execution_count": 23,
   "metadata": {},
   "outputs": [],
   "source": [
    "crime_num['temp_pca'] = X_pca_temp\n",
    "crime_num['precip_pca'] = X_pca_precip\n",
    "crime_num['wind_pca'] = X_pca_wind\n",
    "crime_num['temp_pca'] = X_pca_cloud\n",
    "crime_num['radiation_pca'] = X_pca_radiation\n",
    "\n",
    "\n",
    "crime_violent['temp_pca'] = X_pca_temp\n",
    "crime_violent['precip_pca'] = X_pca_precip\n",
    "crime_violent['wind_pca'] = X_pca_wind\n",
    "crime_violent['cloud _pca'] = X_pca_cloud \n",
    "crime_violent['radiation_pca'] = X_pca_radiation\n"
   ]
  },
  {
   "cell_type": "code",
   "execution_count": 24,
   "metadata": {},
   "outputs": [],
   "source": [
    "crime_num = crime_num.drop(columns=X_temp.columns.tolist() + X_precip.columns.tolist() + X_wind.columns.tolist() + X_cloud.columns.tolist() + X_radiation.columns.tolist())\n",
    "crime_violent = crime_violent.drop(columns=X_temp.columns.tolist() + X_precip.columns.tolist() + X_wind.columns.tolist() + X_cloud.columns.tolist() + X_radiation.columns.tolist())\n"
   ]
  },
  {
   "cell_type": "code",
   "execution_count": 25,
   "metadata": {},
   "outputs": [],
   "source": [
    "crime_num.to_csv(\"../Data/FE/crime_num_dr.csv\")\n",
    "crime_violent.to_csv(\"../Data/FE/crime_violent_dr.csv\")"
   ]
  }
 ],
 "metadata": {
  "kernelspec": {
   "display_name": "base",
   "language": "python",
   "name": "python3"
  },
  "language_info": {
   "codemirror_mode": {
    "name": "ipython",
    "version": 3
   },
   "file_extension": ".py",
   "mimetype": "text/x-python",
   "name": "python",
   "nbconvert_exporter": "python",
   "pygments_lexer": "ipython3",
   "version": "3.11.4"
  }
 },
 "nbformat": 4,
 "nbformat_minor": 2
}
